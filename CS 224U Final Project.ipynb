{
 "cells": [
  {
   "cell_type": "markdown",
   "metadata": {},
   "source": [
    "# CS 224U Final Project: Relation Extraction with Graph Embeddings"
   ]
  },
  {
   "cell_type": "markdown",
   "metadata": {},
   "source": [
    "**Authors:** Ben Barnett and Aakash Pattabi"
   ]
  },
  {
   "cell_type": "code",
   "execution_count": 81,
   "metadata": {
    "scrolled": false
   },
   "outputs": [],
   "source": [
    "import numpy as np\n",
    "import json\n",
    "import sys\n",
    "from pycorenlp import StanfordCoreNLP\n",
    "from collections import defaultdict\n",
    "import subprocess\n",
    "import sys\n",
    "import random\n",
    "import pandas as pd\n",
    "import pickle\n",
    "import os"
   ]
  },
  {
   "cell_type": "markdown",
   "metadata": {},
   "source": [
    "### 1. Loading TACRED data"
   ]
  },
  {
   "cell_type": "code",
   "execution_count": 82,
   "metadata": {
    "scrolled": false
   },
   "outputs": [],
   "source": [
    "train_path = \"tacred/data/json/train.json\"\n",
    "eval_path = \"tacred/data/json/dev.json\"\n",
    "test_path = \"tacred/data/json/test.json\"\n",
    "\n",
    "with open(train_path, \"rb\") as f:\n",
    "    train_data = json.load(f)\n",
    "    \n",
    "with open(eval_path, \"rb\") as f:\n",
    "    eval_data = json.load(f)\n",
    "    \n",
    "with open(test_path, \"rb\") as f:\n",
    "    test_data = json.load(f)"
   ]
  },
  {
   "cell_type": "code",
   "execution_count": 83,
   "metadata": {
    "scrolled": true
   },
   "outputs": [
    {
     "name": "stdout",
     "output_type": "stream",
     "text": [
      "68124 training samples\n",
      "22631 dev samples\n",
      "15509 test samples\n"
     ]
    }
   ],
   "source": [
    "print(\"{} training samples\".format(len(train_data)))\n",
    "print(\"{} dev samples\".format(len(eval_data)))\n",
    "print(\"{} test samples\".format(len(test_data)))"
   ]
  },
  {
   "cell_type": "markdown",
   "metadata": {},
   "source": [
    "### 2. Defining a sentence-level feature extractor"
   ]
  },
  {
   "cell_type": "code",
   "execution_count": 136,
   "metadata": {
    "scrolled": true
   },
   "outputs": [],
   "source": [
    "class GraphFeatureExtractor(object):\n",
    "    def __init__(self, server, parse_level = \"basic\", \n",
    "                 embedding_path = None):\n",
    "        self.server = server\n",
    "        self.set_parse_level(parse_level)\n",
    "        \n",
    "        # Initialize word embeddings\n",
    "        if embedding_path:\n",
    "            self.embedding_path = embedding_path\n",
    "            self._load_embeddings()\n",
    "        else:\n",
    "            self.embedding_path = None\n",
    "            \n",
    "        self._reset_class_distribution()\n",
    "        self._reset_class_labels()\n",
    "    \n",
    "    def _reset_class_labels(self):\n",
    "        self.class_labels = {}\n",
    "    \n",
    "    def _reset_class_distribution(self):\n",
    "        self.class_distribution = defaultdict(int)\n",
    "        self.sentences_seen = 0\n",
    "        \n",
    "    def _load_embeddings(self):\n",
    "        self.embeddings = {}\n",
    "        with open(self.embedding_path, \"r\") as f:\n",
    "            for line in f:\n",
    "                tokens = line.split()\n",
    "                self.embeddings[tokens[0]] = [float(i) for i in tokens[1:]]\n",
    "    \n",
    "    def get_class_labels(self):\n",
    "        return self.class_labels\n",
    "    \n",
    "    def set_parse_level(self, parse_level):\n",
    "        assert parse_level in [\"basic\", \"enhanced\", \"extra_enhanced\"]\n",
    "        d = {\n",
    "            \"basic\" : \"basicDependencies\",\n",
    "            \"enhanced\" : \"enhancedDependencies\", \n",
    "            \"extra_enhanced\" : \"enhancedPlusPlusDependencies\"\n",
    "        }\n",
    "        self.parse_level = d[parse_level]\n",
    "    \n",
    "    def _extract_graph(self, sentence):\n",
    "        Y = sentence[\"relation\"]\n",
    "        self.class_distribution[Y] += 1\n",
    "        self.sentences_seen += 1\n",
    "        if Y not in self.class_labels:\n",
    "            self.class_labels[Y] = len(self.class_labels)\n",
    "        \n",
    "        # Extract tokens, subsentence (b/w subj->obj tokens)\n",
    "        tokens = sentence[\"token\"]\n",
    "        first = min(sentence[\"subj_start\"], sentence[\"obj_start\"])\n",
    "        second = max(sentence[\"subj_end\"], sentence[\"obj_end\"])\n",
    "        middle = tokens[first:second+1]\n",
    "\n",
    "        # Concatenate full sentence and sentence middle (b/w subj->obj tokens)\n",
    "        full_sentence = \" \".join(tokens)\n",
    "        full_middle = \" \".join(middle)\n",
    "        \n",
    "        # Parse with Stanford parser\n",
    "        full_sentence_out = server.annotate(full_sentence, properties = {\n",
    "            \"annotators\" : \"parse\", \n",
    "            \"outputFormat\" : \"json\"\n",
    "        })\n",
    "        middle_out = server.annotate(full_middle, properties = {\n",
    "            \"annotators\" : \"parse\", \n",
    "            \"outputFormat\" : \"json\"\n",
    "        })\n",
    "        \n",
    "        # Extract graph edgelist\n",
    "        X_full, full_tokens = self._parse_to_graph(full_sentence_out)\n",
    "        X_middle, middle_tokens = self._parse_to_graph(middle_out)\n",
    "        \n",
    "        # Add word-level GloVe features to graph inputs\n",
    "        if self.embedding_path:\n",
    "            X_full[\"features\"] = self._get_embedding_features(full_tokens)\n",
    "            for k in set().union(*X_full[\"edges\"]): # Error-checking to make sure G2V completes\n",
    "                assert k in X_full[\"features\"]\n",
    "            \n",
    "            X_middle[\"features\"] = self._get_embedding_features(middle_tokens)\n",
    "            for k in set().union(*X_middle[\"edges\"]): # Error-checking to make sure G2V completes\n",
    "                assert k in X_middle[\"features\"]\n",
    "        \n",
    "        return {\"full\" : X_full, \"middle\" : X_middle, \"Y\" : Y}\n",
    "        \n",
    "    def _parse_to_graph(self, parse):                        \n",
    "        dep_list = parse[\"sentences\"][0][self.parse_level]\n",
    "        dep_graph = defaultdict(lambda : [])\n",
    "        for d in dep_list:\n",
    "                dep_graph[d[\"governor\"]].append(d[\"dependent\"])\n",
    "        \n",
    "        parser_tokens = [tok[\"word\"] for tok in parse[\"sentences\"][0][\"tokens\"]]\n",
    "        return self._convert_to_edgelist(dep_graph), parser_tokens\n",
    "    \n",
    "    def _convert_to_edgelist(self, dep_graph):\n",
    "        el = {\n",
    "            \"edges\" : [[k, vi] for k, v in dep_graph.items() for vi in v] \n",
    "        }        \n",
    "        return el\n",
    "    \n",
    "    def _get_embedding_features(self, sent, embedding_dim = 50):\n",
    "        feats = {}\n",
    "        for i, token in enumerate(sent):\n",
    "            features = self.embeddings.get(token, None)\n",
    "            if not features:\n",
    "                features = [np.random.rand() for j in range(embedding_dim)]\n",
    "            feats[i+1] = features\n",
    "            \n",
    "        # By default, we assign the [ROOT] token in the parse tree an embedding vector\n",
    "        # of all zeroes... mostly because I'm not strictly sure what else to do here. @Ben, thoughts?\n",
    "        feats[0] = [0]*embedding_dim\n",
    "        return feats\n",
    "    \n",
    "    def extract_batch_graphs(self, sentences):\n",
    "        n_sentences = len(sentences)\n",
    "        batch = []\n",
    "        for i, s in enumerate(sentences):\n",
    "            batch.append(self._extract_graph(s))\n",
    "            print(\"Extracted graphs for [{}/{}] sentences...\".format(i+1, n_sentences), end = \"\\r\")\n",
    "            sys.stdout.flush()\n",
    "\n",
    "        return batch\n",
    "    \n",
    "    def extract_resampled_graphs(self, features, total):\n",
    "        n_to_resample = total - len(features)\n",
    "        if n_to_resample <= 0:\n",
    "            return\n",
    "        \n",
    "        resampled_features = []\n",
    "        while n_to_resample > 0:\n",
    "            feat = random.choice(features)\n",
    "            rel = feat[\"Y\"]\n",
    "            frequency = self.class_distribution[rel]/self.sentences_seen\n",
    "            keep = (np.random.rand() > frequency)\n",
    "            if keep:\n",
    "                resampled_features.append(feat)\n",
    "                n_to_resample -= 1\n",
    "        return resampled_features\n",
    "    \n",
    "    def save_jsons(self, graphs, save_path):\n",
    "        assert save_path and save_path[-1] == \"/\"\n",
    "        for i, g in enumerate(graphs):\n",
    "            with open(save_path + str(i) + \".json\", \"w\") as f:\n",
    "                json.dump(g, f)\n",
    "    \n",
    "    def concat_with_mean_embedding(self, features, embedding_dicts):\n",
    "        n, d = features.shape\n",
    "        mean_embeddings = []\n",
    "        for i in range(n):\n",
    "            mean_embeddings.append(np.mean([v for k, v in embedding_dicts[i].items()], axis = 0))\n",
    "        return np.concatenate((features, mean_embeddings), axis = 1)\n",
    "    \n",
    "    def concat_with_sum_embedding(self, features, embedding_dicts):\n",
    "        n, d = features.shape\n",
    "        mean_embeddings = []\n",
    "        for i in range(n):\n",
    "            mean_embeddings.append(np.sum([v for k, v in embedding_dicts[i].items()], axis = 0))\n",
    "        return np.concatenate((features, mean_embeddings), axis = 1)"
   ]
  },
  {
   "cell_type": "markdown",
   "metadata": {},
   "source": [
    "Additional features to implement:\n",
    "1. ~~Resampling of the original data to augment data size + reduce class imbalance that *doesn't* duplicate Graph2Vec features across repeated samples.~~\n",
    "2. ~~Creating a full TAC dataset-to-features pipeline that can be deployed on arbitrary data~~ \n",
    "3. Incorporation of e.g. parse tree label information into the features. \n",
    "4. Classifiers - implement logistic regression, set up as a neural network."
   ]
  },
  {
   "cell_type": "markdown",
   "metadata": {},
   "source": [
    "### 3. Defining a full feature-extraction pipeline that can be used on arbitrary data"
   ]
  },
  {
   "cell_type": "code",
   "execution_count": 148,
   "metadata": {
    "scrolled": false
   },
   "outputs": [],
   "source": [
    "class FeatureExtractorPipeline(object):\n",
    "    def __init__(self, fe_args, save_paths):\n",
    "        self.fe = GraphFeatureExtractor(**fe_args)\n",
    "        self.save_paths = save_paths\n",
    "        self.class_labels = None\n",
    "    \n",
    "    def _one_hot(self, length, hot):\n",
    "        a = np.zeros(length)\n",
    "        a[hot] = 1\n",
    "        return a\n",
    "    \n",
    "    def _extract_training_graphs(self, sentences, total, train_flag):\n",
    "        feats = self.fe.extract_batch_graphs(sentences)\n",
    "        if total > len(sentences):\n",
    "            resampled_feats = self.fe.extract_resampled_graphs(feats, total)\n",
    "            feats += resampled_feats\n",
    "            assert len(feats) == total    \n",
    "        \n",
    "        self.fe.save_jsons(\n",
    "            [feat[\"full\"] for feat in feats], \n",
    "            self.save_paths[train_flag + \"_full_save_path\"]\n",
    "        )\n",
    "        self.fe.save_jsons(\n",
    "            [feat[\"middle\"] for feat in feats], \n",
    "            self.save_paths[train_flag + \"_middle_save_path\"]\n",
    "        )\n",
    "        \n",
    "        self.class_labels = self.fe.get_class_labels()\n",
    "        n_classes = len(self.class_labels)\n",
    "        Y = [self._one_hot(n_classes, self.class_labels[feat[\"Y\"]]) for feat in feats]\n",
    "        X_full_embs = [feat[\"full\"][\"features\"] for feat in feats]\n",
    "        X_middle_embs = [feat[\"middle\"][\"features\"] for feat in feats]\n",
    "        \n",
    "        return Y, X_full_embs, X_middle_embs\n",
    "    \n",
    "    def _extract_training_embeddings(self, \n",
    "                                     X_full_embs, X_middle_embs,\n",
    "                                     train_flag, \n",
    "                                     concat = \"mean\"):\n",
    "        assert concat in [\"mean\", \"sum\", \"both\"]\n",
    "        \n",
    "        success_full = subprocess.call(\n",
    "            [\"python\", \n",
    "             \"graph2vec/src/graph2vec.py\", \n",
    "             \"--input-path\", self.save_paths[train_flag + \"_full_save_path\"], \n",
    "             \"--output-path\", self.save_paths[train_flag + \"_full_g2v_path\"]]\n",
    "        )\n",
    "        assert success_full == 0\n",
    "        \n",
    "        success_middle = subprocess.call(\n",
    "            [\"python\", \n",
    "             \"graph2vec/src/graph2vec.py\", \n",
    "             \"--input-path\", self.save_paths[train_flag + \"_middle_save_path\"], \n",
    "             \"--output-path\", self.save_paths[train_flag + \"_middle_g2v_path\"]]\n",
    "        )\n",
    "        assert success_middle == 0\n",
    "        \n",
    "        X_full = pd.read_csv(\n",
    "            self.save_paths[train_flag + \"_full_g2v_path\"], sep = \",\").drop(labels = [\"type\"], axis = 1)\n",
    "        X_full = np.array(X_full)\n",
    "        \n",
    "        X_middle = pd.read_csv(\n",
    "            self.save_paths[train_flag + \"_middle_g2v_path\"], sep = \",\").drop(labels = [\"type\"], axis = 1)\n",
    "        X_middle = np.array(X_middle)\n",
    "        \n",
    "        if concat == \"mean\" or concat == \"both\":\n",
    "            X_full = fe.concat_with_mean_embedding(X_full, X_full_embs)\n",
    "            X_middle = fe.concat_with_mean_embedding(X_middle, X_middle_embs)\n",
    "        elif concat == \"sum\" or concat == \"both\":\n",
    "            X_full = fe.concat_with_sum_embedding(X_full, X_full_embs)\n",
    "            X_middle = fe.concat_with_sum_embedding(X_middle, X_middle_embs)\n",
    "        \n",
    "        return X_full, X_middle\n",
    "    \n",
    "    def get_class_labels(self):\n",
    "        return self.class_labels\n",
    "    \n",
    "    def extract_features(self, sentences, total = 0, \n",
    "                         train_flag = \"train\", concat = \"mean\"):\n",
    "        assert train_flag in [\"train\", \"test\"]\n",
    "        \n",
    "        print(\"Building graphs from sentence dependency trees...\")\n",
    "        Y, X_full_embs, X_middle_embs = self._extract_training_graphs(sentences, total, train_flag)\n",
    "        np.save(self.save_paths[\"responses\"], Y)\n",
    "        print(\"Resampled sentence graphs up to {} total examples in the data...\".format(len(Y)), end = \"\\r\")\n",
    "            \n",
    "        print(\"Extracting Graph2Vec embeddings and annotationg w/ GloVe vecs...\")\n",
    "        X_full, X_middle = self._extract_training_embeddings(X_full_embs, X_middle_embs, train_flag, concat)\n",
    "        X = np.concatenate((X_full, X_middle), axis = 1)\n",
    "        np.save(self.save_paths[\"features\"], X)\n",
    "        print(\"Done!\")\n",
    "        return Y, X_full, X_middle"
   ]
  },
  {
   "cell_type": "code",
   "execution_count": 153,
   "metadata": {
    "scrolled": false
   },
   "outputs": [
    {
     "name": "stdout",
     "output_type": "stream",
     "text": [
      "Originally 100 samples in training data...\n",
      "Building graphs from sentence dependency trees...\n",
      "Resampled up to 1000 graphs... sentences...\n",
      "Extracting Graph2Vec embeddings and annotationg w/ GloVe vecs...\n",
      "Done!\n"
     ]
    }
   ],
   "source": [
    "sanity_check = train_data[:100]\n",
    "\n",
    "fe_args = {\n",
    "    \"server\" : server, \n",
    "    \"embedding_path\" : embedding_path\n",
    "}\n",
    "\n",
    "save_paths = {\n",
    "    \"train_full_save_path\" : \"train_features_full/\", \n",
    "    \"train_middle_save_path\" : \"train_features_middle/\",\n",
    "    \"test_full_save_path\" : \"test_features_full/\",\n",
    "    \"test_middle_save_path\" : \"test_features_middle/\",\n",
    "    \"train_full_g2v_path\" : \"train_features_full_g2v/features.csv\",\n",
    "    \"train_middle_g2v_path\" : \"train_features_middle_g2v/features.csv\",\n",
    "    \"test_full_g2v_path\" : \"test_features_full_g2v/features.csv\", \n",
    "    \"test_middle_g2v_path\" : \"test_features_middle_g2v/features.csv\",\n",
    "    \"responses\" : \"all_features/responses\",\n",
    "    \"features\" : \"all_features/features\"\n",
    "}\n",
    "\n",
    "n_samples = len(sanity_check)\n",
    "print(\"Originally {} samples in training data...\".format(n_samples))\n",
    "fep = FeatureExtractorPipeline(fe_args, save_paths)\n",
    "Y, X_full, X_middle = fep.extract_features(sanity_check, total = 1000)"
   ]
  },
  {
   "cell_type": "markdown",
   "metadata": {},
   "source": [
    "Let's just verify really quickly that:\n",
    "1. The one-hot encoding of the labels is correct. \n",
    "2. Resampling _did_ fix any class-imbalance issues (if there were any)..."
   ]
  },
  {
   "cell_type": "code",
   "execution_count": 162,
   "metadata": {},
   "outputs": [
    {
     "name": "stdout",
     "output_type": "stream",
     "text": [
      "Sentence: Manning was prime minister in 1991 , and called a snap elections in 1995 which he lost to the UNC after the party entered an electoral arrangement with the National Alliance for Reconstruction .\n",
      "Label: no_relation\n",
      "FEP label: no_relation\n",
      "# classes: 12\n",
      "{0: 'org:founded_by', 1: 'no_relation', 2: 'per:employee_of', 3: 'org:alternate_names', 4: 'per:cities_of_residence', 5: 'per:children', 6: 'per:title', 7: 'per:siblings', 8: 'per:religion', 9: 'per:age', 10: 'org:website', 11: 'per:stateorprovinces_of_residence'}\n"
     ]
    },
    {
     "data": {
      "image/png": "[encoded data removed]",
      "text/plain": [
       "<Figure size 432x288 with 1 Axes>"
      ]
     },
     "metadata": {
      "needs_background": "light"
     },
     "output_type": "display_data"
    },
    {
     "name": "stdout",
     "output_type": "stream",
     "text": [
      "1000\n",
      "(1000, 178)\n",
      "(1000, 178)\n"
     ]
    }
   ],
   "source": [
    "import matplotlib.pyplot as plt\n",
    "\n",
    "# Verifying that the labels are correct\n",
    "idx = random.choice(range(len(sanity_check)))\n",
    "ex = \" \".join(sanity_check[idx][\"token\"])\n",
    "label = sanity_check[idx][\"relation\"]\n",
    "print(\"Sentence: {}\\nLabel: {}\".format(ex, label))\n",
    "\n",
    "class_labels = { v : k for k, v in fep.get_class_labels().items()}\n",
    "fep_label = class_labels[np.argmax(Y[idx]).astype(int)]\n",
    "print(\"FEP label: {}\".format(fep_label))\n",
    "assert fep_label == label\n",
    "\n",
    "print(\"# classes: {}\".format(len(class_labels)))\n",
    "print(class_labels)\n",
    "# Verifying class-imbalance issues\n",
    "labels = np.argmax(Y, axis = 1)\n",
    "keys, counts = np.unique(labels, return_counts = True)\n",
    "plt.bar(keys, counts)\n",
    "plt.title(\"Class distribution in resampled data\")\n",
    "plt.xticks(keys, [class_labels[k] for k in keys], rotation = 270)\n",
    "plt.show()\n",
    "\n",
    "# Verifying that all the shapes work out...\n",
    "print(len(Y))\n",
    "print(X_full.shape)\n",
    "print(X_middle.shape)"
   ]
  },
  {
   "cell_type": "markdown",
   "metadata": {},
   "source": [
    "### 4. Defining the model"
   ]
  },
  {
   "cell_type": "code",
   "execution_count": 3,
   "metadata": {
    "scrolled": true
   },
   "outputs": [],
   "source": [
    "import torch\n",
    "import torch.nn as nn\n",
    "import torch.nn.functional as F\n",
    "\n",
    "class FullyConnectedNN(nn.Module):\n",
    "    def __init__(self, architecture, input_size, output_size):\n",
    "        super().__init__()\n",
    "        architecture = [input_size] + architecture\n",
    "        self.layers = nn.ModuleList()\n",
    "        for i, neurons in enumerate(architecture[:-1]):\n",
    "            self.layers.append(nn.Linear(architecture[i], architecture[i+1]))\n",
    "        self.output_layer = nn.Linear(architecture[-1], output_size)\n",
    "        \n",
    "    def forward(self, x):\n",
    "        for i, layer in enumerate(self.layers):\n",
    "            x = F.relu(layer(x))\n",
    "        return self.output_layer(x)"
   ]
  },
  {
   "cell_type": "markdown",
   "metadata": {},
   "source": [
    "Let's sanity-check just to make sure the network's forward pass is functional..."
   ]
  },
  {
   "cell_type": "code",
   "execution_count": 4,
   "metadata": {
    "scrolled": true
   },
   "outputs": [
    {
     "name": "stdout",
     "output_type": "stream",
     "text": [
      "tensor([[0.4531, 0.0169]], grad_fn=<AddmmBackward>)\n"
     ]
    }
   ],
   "source": [
    "net = FullyConnectedNN([5, 5, 5], 10, 2)\n",
    "x = torch.rand(10).view(1, -1)\n",
    "y = net(x)\n",
    "print(y)"
   ]
  },
  {
   "cell_type": "markdown",
   "metadata": {},
   "source": [
    "Finally, we write the training loop..."
   ]
  },
  {
   "cell_type": "code",
   "execution_count": 54,
   "metadata": {
    "scrolled": true
   },
   "outputs": [],
   "source": [
    "class Trainer(object):\n",
    "    def __init__(self, model, optimizer, hyperparams):\n",
    "        self.model = model\n",
    "        self.hyperparams = hyperparams\n",
    "        self.optimizer = optimizer(model.parameters(), hyperparams[\"lr\"])\n",
    "    \n",
    "    def train(X, Y):\n",
    "        pass"
   ]
  }
 ],
 "metadata": {
  "kernelspec": {
   "display_name": "Python 3",
   "language": "python",
   "name": "python3"
  },
  "language_info": {
   "codemirror_mode": {
    "name": "ipython",
    "version": 3
   },
   "file_extension": ".py",
   "mimetype": "text/x-python",
   "name": "python",
   "nbconvert_exporter": "python",
   "pygments_lexer": "ipython3",
   "version": "3.6.8"
  }
 },
 "nbformat": 4,
 "nbformat_minor": 2
}
